{
 "cells": [
  {
   "cell_type": "markdown",
   "metadata": {
    "id": "DrOQ77xT0I8T",
    "papermill": {
     "duration": 0.024455,
     "end_time": "2020-12-18T19:36:45.028270",
     "exception": false,
     "start_time": "2020-12-18T19:36:45.003815",
     "status": "completed"
    },
    "tags": []
   },
   "source": [
    "# **Supermarket Rating Kaggle**\n",
    "**Complete Data Analysis and Data Visualisation**"
   ]
  },
  {
   "cell_type": "code",
   "execution_count": 39,
   "metadata": {
    "execution": {
     "iopub.execute_input": "2020-12-18T19:36:45.078003Z",
     "iopub.status.busy": "2020-12-18T19:36:45.077353Z",
     "iopub.status.idle": "2020-12-18T19:36:46.243597Z",
     "shell.execute_reply": "2020-12-18T19:36:46.242815Z"
    },
    "id": "tuSH6dACmcVh",
    "papermill": {
     "duration": 1.192402,
     "end_time": "2020-12-18T19:36:46.243761",
     "exception": false,
     "start_time": "2020-12-18T19:36:45.051359",
     "status": "completed"
    },
    "tags": []
   },
   "outputs": [],
   "source": [
    "import pandas as pd\n",
    "import numpy as np\n",
    "import matplotlib.pyplot as plt\n",
    "import seaborn as sns"
   ]
  },
  {
   "cell_type": "code",
   "execution_count": 40,
   "metadata": {},
   "outputs": [
    {
     "data": {
      "text/html": [
       "<div>\n",
       "<style scoped>\n",
       "    .dataframe tbody tr th:only-of-type {\n",
       "        vertical-align: middle;\n",
       "    }\n",
       "\n",
       "    .dataframe tbody tr th {\n",
       "        vertical-align: top;\n",
       "    }\n",
       "\n",
       "    .dataframe thead th {\n",
       "        text-align: right;\n",
       "    }\n",
       "</style>\n",
       "<table border=\"1\" class=\"dataframe\">\n",
       "  <thead>\n",
       "    <tr style=\"text-align: right;\">\n",
       "      <th></th>\n",
       "      <th>Invoice ID</th>\n",
       "      <th>Branch</th>\n",
       "      <th>City</th>\n",
       "      <th>Customer type</th>\n",
       "      <th>Gender</th>\n",
       "      <th>Product line</th>\n",
       "      <th>Unit price</th>\n",
       "      <th>Quantity</th>\n",
       "      <th>Tax 5%</th>\n",
       "      <th>Total</th>\n",
       "      <th>Date</th>\n",
       "      <th>Time</th>\n",
       "      <th>Payment</th>\n",
       "      <th>cogs</th>\n",
       "      <th>gross margin percentage</th>\n",
       "      <th>gross income</th>\n",
       "      <th>Rating</th>\n",
       "    </tr>\n",
       "  </thead>\n",
       "  <tbody>\n",
       "    <tr>\n",
       "      <th>0</th>\n",
       "      <td>750-67-8428</td>\n",
       "      <td>A</td>\n",
       "      <td>Yangon</td>\n",
       "      <td>Member</td>\n",
       "      <td>Female</td>\n",
       "      <td>Health and beauty</td>\n",
       "      <td>74.69</td>\n",
       "      <td>7</td>\n",
       "      <td>26.1415</td>\n",
       "      <td>548.9715</td>\n",
       "      <td>1/5/2019</td>\n",
       "      <td>13:08</td>\n",
       "      <td>Ewallet</td>\n",
       "      <td>522.83</td>\n",
       "      <td>4.761905</td>\n",
       "      <td>26.1415</td>\n",
       "      <td>9.1</td>\n",
       "    </tr>\n",
       "    <tr>\n",
       "      <th>1</th>\n",
       "      <td>226-31-3081</td>\n",
       "      <td>C</td>\n",
       "      <td>Naypyitaw</td>\n",
       "      <td>Normal</td>\n",
       "      <td>Female</td>\n",
       "      <td>Electronic accessories</td>\n",
       "      <td>15.28</td>\n",
       "      <td>5</td>\n",
       "      <td>3.8200</td>\n",
       "      <td>80.2200</td>\n",
       "      <td>3/8/2019</td>\n",
       "      <td>10:29</td>\n",
       "      <td>Cash</td>\n",
       "      <td>76.40</td>\n",
       "      <td>4.761905</td>\n",
       "      <td>3.8200</td>\n",
       "      <td>9.6</td>\n",
       "    </tr>\n",
       "    <tr>\n",
       "      <th>2</th>\n",
       "      <td>631-41-3108</td>\n",
       "      <td>A</td>\n",
       "      <td>Yangon</td>\n",
       "      <td>Normal</td>\n",
       "      <td>Male</td>\n",
       "      <td>Home and lifestyle</td>\n",
       "      <td>46.33</td>\n",
       "      <td>7</td>\n",
       "      <td>16.2155</td>\n",
       "      <td>340.5255</td>\n",
       "      <td>3/3/2019</td>\n",
       "      <td>13:23</td>\n",
       "      <td>Credit card</td>\n",
       "      <td>324.31</td>\n",
       "      <td>4.761905</td>\n",
       "      <td>16.2155</td>\n",
       "      <td>7.4</td>\n",
       "    </tr>\n",
       "    <tr>\n",
       "      <th>3</th>\n",
       "      <td>123-19-1176</td>\n",
       "      <td>A</td>\n",
       "      <td>Yangon</td>\n",
       "      <td>Member</td>\n",
       "      <td>Male</td>\n",
       "      <td>Health and beauty</td>\n",
       "      <td>58.22</td>\n",
       "      <td>8</td>\n",
       "      <td>23.2880</td>\n",
       "      <td>489.0480</td>\n",
       "      <td>1/27/2019</td>\n",
       "      <td>20:33</td>\n",
       "      <td>Ewallet</td>\n",
       "      <td>465.76</td>\n",
       "      <td>4.761905</td>\n",
       "      <td>23.2880</td>\n",
       "      <td>8.4</td>\n",
       "    </tr>\n",
       "    <tr>\n",
       "      <th>4</th>\n",
       "      <td>373-73-7910</td>\n",
       "      <td>A</td>\n",
       "      <td>Yangon</td>\n",
       "      <td>Normal</td>\n",
       "      <td>Male</td>\n",
       "      <td>Sports and travel</td>\n",
       "      <td>86.31</td>\n",
       "      <td>7</td>\n",
       "      <td>30.2085</td>\n",
       "      <td>634.3785</td>\n",
       "      <td>2/8/2019</td>\n",
       "      <td>10:37</td>\n",
       "      <td>Ewallet</td>\n",
       "      <td>604.17</td>\n",
       "      <td>4.761905</td>\n",
       "      <td>30.2085</td>\n",
       "      <td>5.3</td>\n",
       "    </tr>\n",
       "  </tbody>\n",
       "</table>\n",
       "</div>"
      ],
      "text/plain": [
       "    Invoice ID Branch       City Customer type  Gender  \\\n",
       "0  750-67-8428      A     Yangon        Member  Female   \n",
       "1  226-31-3081      C  Naypyitaw        Normal  Female   \n",
       "2  631-41-3108      A     Yangon        Normal    Male   \n",
       "3  123-19-1176      A     Yangon        Member    Male   \n",
       "4  373-73-7910      A     Yangon        Normal    Male   \n",
       "\n",
       "             Product line  Unit price  Quantity   Tax 5%     Total       Date  \\\n",
       "0       Health and beauty       74.69         7  26.1415  548.9715   1/5/2019   \n",
       "1  Electronic accessories       15.28         5   3.8200   80.2200   3/8/2019   \n",
       "2      Home and lifestyle       46.33         7  16.2155  340.5255   3/3/2019   \n",
       "3       Health and beauty       58.22         8  23.2880  489.0480  1/27/2019   \n",
       "4       Sports and travel       86.31         7  30.2085  634.3785   2/8/2019   \n",
       "\n",
       "    Time      Payment    cogs  gross margin percentage  gross income  Rating  \n",
       "0  13:08      Ewallet  522.83                 4.761905       26.1415     9.1  \n",
       "1  10:29         Cash   76.40                 4.761905        3.8200     9.6  \n",
       "2  13:23  Credit card  324.31                 4.761905       16.2155     7.4  \n",
       "3  20:33      Ewallet  465.76                 4.761905       23.2880     8.4  \n",
       "4  10:37      Ewallet  604.17                 4.761905       30.2085     5.3  "
      ]
     },
     "execution_count": 40,
     "metadata": {},
     "output_type": "execute_result"
    }
   ],
   "source": [
    "df=pd.read_csv(\"supermarket_sales - Sheet1.csv\")\n",
    "df.head()"
   ]
  },
  {
   "cell_type": "code",
   "execution_count": 41,
   "metadata": {
    "execution": {
     "iopub.execute_input": "2020-12-18T19:36:46.409434Z",
     "iopub.status.busy": "2020-12-18T19:36:46.408677Z",
     "iopub.status.idle": "2020-12-18T19:36:46.449493Z",
     "shell.execute_reply": "2020-12-18T19:36:46.448908Z"
    },
    "id": "elrv32nXo7d9",
    "outputId": "81cb1e0b-edd3-4f94-8893-1a19d6773fba",
    "papermill": {
     "duration": 0.068194,
     "end_time": "2020-12-18T19:36:46.449618",
     "exception": false,
     "start_time": "2020-12-18T19:36:46.381424",
     "status": "completed"
    },
    "tags": []
   },
   "outputs": [
    {
     "data": {
      "text/html": [
       "<div>\n",
       "<style scoped>\n",
       "    .dataframe tbody tr th:only-of-type {\n",
       "        vertical-align: middle;\n",
       "    }\n",
       "\n",
       "    .dataframe tbody tr th {\n",
       "        vertical-align: top;\n",
       "    }\n",
       "\n",
       "    .dataframe thead th {\n",
       "        text-align: right;\n",
       "    }\n",
       "</style>\n",
       "<table border=\"1\" class=\"dataframe\">\n",
       "  <thead>\n",
       "    <tr style=\"text-align: right;\">\n",
       "      <th></th>\n",
       "      <th>Unit price</th>\n",
       "      <th>Quantity</th>\n",
       "      <th>Tax 5%</th>\n",
       "      <th>Total</th>\n",
       "      <th>cogs</th>\n",
       "      <th>gross margin percentage</th>\n",
       "      <th>gross income</th>\n",
       "      <th>Rating</th>\n",
       "    </tr>\n",
       "  </thead>\n",
       "  <tbody>\n",
       "    <tr>\n",
       "      <th>count</th>\n",
       "      <td>1000.000000</td>\n",
       "      <td>1000.000000</td>\n",
       "      <td>1000.000000</td>\n",
       "      <td>1000.000000</td>\n",
       "      <td>1000.00000</td>\n",
       "      <td>1.000000e+03</td>\n",
       "      <td>1000.000000</td>\n",
       "      <td>1000.00000</td>\n",
       "    </tr>\n",
       "    <tr>\n",
       "      <th>mean</th>\n",
       "      <td>55.672130</td>\n",
       "      <td>5.510000</td>\n",
       "      <td>15.379369</td>\n",
       "      <td>322.966749</td>\n",
       "      <td>307.58738</td>\n",
       "      <td>4.761905e+00</td>\n",
       "      <td>15.379369</td>\n",
       "      <td>6.97270</td>\n",
       "    </tr>\n",
       "    <tr>\n",
       "      <th>std</th>\n",
       "      <td>26.494628</td>\n",
       "      <td>2.923431</td>\n",
       "      <td>11.708825</td>\n",
       "      <td>245.885335</td>\n",
       "      <td>234.17651</td>\n",
       "      <td>6.131498e-14</td>\n",
       "      <td>11.708825</td>\n",
       "      <td>1.71858</td>\n",
       "    </tr>\n",
       "    <tr>\n",
       "      <th>min</th>\n",
       "      <td>10.080000</td>\n",
       "      <td>1.000000</td>\n",
       "      <td>0.508500</td>\n",
       "      <td>10.678500</td>\n",
       "      <td>10.17000</td>\n",
       "      <td>4.761905e+00</td>\n",
       "      <td>0.508500</td>\n",
       "      <td>4.00000</td>\n",
       "    </tr>\n",
       "    <tr>\n",
       "      <th>25%</th>\n",
       "      <td>32.875000</td>\n",
       "      <td>3.000000</td>\n",
       "      <td>5.924875</td>\n",
       "      <td>124.422375</td>\n",
       "      <td>118.49750</td>\n",
       "      <td>4.761905e+00</td>\n",
       "      <td>5.924875</td>\n",
       "      <td>5.50000</td>\n",
       "    </tr>\n",
       "    <tr>\n",
       "      <th>50%</th>\n",
       "      <td>55.230000</td>\n",
       "      <td>5.000000</td>\n",
       "      <td>12.088000</td>\n",
       "      <td>253.848000</td>\n",
       "      <td>241.76000</td>\n",
       "      <td>4.761905e+00</td>\n",
       "      <td>12.088000</td>\n",
       "      <td>7.00000</td>\n",
       "    </tr>\n",
       "    <tr>\n",
       "      <th>75%</th>\n",
       "      <td>77.935000</td>\n",
       "      <td>8.000000</td>\n",
       "      <td>22.445250</td>\n",
       "      <td>471.350250</td>\n",
       "      <td>448.90500</td>\n",
       "      <td>4.761905e+00</td>\n",
       "      <td>22.445250</td>\n",
       "      <td>8.50000</td>\n",
       "    </tr>\n",
       "    <tr>\n",
       "      <th>max</th>\n",
       "      <td>99.960000</td>\n",
       "      <td>10.000000</td>\n",
       "      <td>49.650000</td>\n",
       "      <td>1042.650000</td>\n",
       "      <td>993.00000</td>\n",
       "      <td>4.761905e+00</td>\n",
       "      <td>49.650000</td>\n",
       "      <td>10.00000</td>\n",
       "    </tr>\n",
       "  </tbody>\n",
       "</table>\n",
       "</div>"
      ],
      "text/plain": [
       "        Unit price     Quantity       Tax 5%        Total        cogs  \\\n",
       "count  1000.000000  1000.000000  1000.000000  1000.000000  1000.00000   \n",
       "mean     55.672130     5.510000    15.379369   322.966749   307.58738   \n",
       "std      26.494628     2.923431    11.708825   245.885335   234.17651   \n",
       "min      10.080000     1.000000     0.508500    10.678500    10.17000   \n",
       "25%      32.875000     3.000000     5.924875   124.422375   118.49750   \n",
       "50%      55.230000     5.000000    12.088000   253.848000   241.76000   \n",
       "75%      77.935000     8.000000    22.445250   471.350250   448.90500   \n",
       "max      99.960000    10.000000    49.650000  1042.650000   993.00000   \n",
       "\n",
       "       gross margin percentage  gross income      Rating  \n",
       "count             1.000000e+03   1000.000000  1000.00000  \n",
       "mean              4.761905e+00     15.379369     6.97270  \n",
       "std               6.131498e-14     11.708825     1.71858  \n",
       "min               4.761905e+00      0.508500     4.00000  \n",
       "25%               4.761905e+00      5.924875     5.50000  \n",
       "50%               4.761905e+00     12.088000     7.00000  \n",
       "75%               4.761905e+00     22.445250     8.50000  \n",
       "max               4.761905e+00     49.650000    10.00000  "
      ]
     },
     "execution_count": 41,
     "metadata": {},
     "output_type": "execute_result"
    }
   ],
   "source": [
    "df.describe()"
   ]
  },
  {
   "cell_type": "code",
   "execution_count": 42,
   "metadata": {
    "execution": {
     "iopub.execute_input": "2020-12-18T19:36:46.514478Z",
     "iopub.status.busy": "2020-12-18T19:36:46.513776Z",
     "iopub.status.idle": "2020-12-18T19:36:46.518501Z",
     "shell.execute_reply": "2020-12-18T19:36:46.519017Z"
    },
    "id": "8zCVC_s94DHL",
    "outputId": "9ca3b6eb-9e08-4ba8-b95a-295057b8fe37",
    "papermill": {
     "duration": 0.044318,
     "end_time": "2020-12-18T19:36:46.519176",
     "exception": false,
     "start_time": "2020-12-18T19:36:46.474858",
     "status": "completed"
    },
    "tags": []
   },
   "outputs": [
    {
     "name": "stdout",
     "output_type": "stream",
     "text": [
      "<class 'pandas.core.frame.DataFrame'>\n",
      "RangeIndex: 1000 entries, 0 to 999\n",
      "Data columns (total 17 columns):\n",
      " #   Column                   Non-Null Count  Dtype  \n",
      "---  ------                   --------------  -----  \n",
      " 0   Invoice ID               1000 non-null   object \n",
      " 1   Branch                   1000 non-null   object \n",
      " 2   City                     1000 non-null   object \n",
      " 3   Customer type            1000 non-null   object \n",
      " 4   Gender                   1000 non-null   object \n",
      " 5   Product line             1000 non-null   object \n",
      " 6   Unit price               1000 non-null   float64\n",
      " 7   Quantity                 1000 non-null   int64  \n",
      " 8   Tax 5%                   1000 non-null   float64\n",
      " 9   Total                    1000 non-null   float64\n",
      " 10  Date                     1000 non-null   object \n",
      " 11  Time                     1000 non-null   object \n",
      " 12  Payment                  1000 non-null   object \n",
      " 13  cogs                     1000 non-null   float64\n",
      " 14  gross margin percentage  1000 non-null   float64\n",
      " 15  gross income             1000 non-null   float64\n",
      " 16  Rating                   1000 non-null   float64\n",
      "dtypes: float64(7), int64(1), object(9)\n",
      "memory usage: 132.9+ KB\n"
     ]
    }
   ],
   "source": [
    "df.info()"
   ]
  },
  {
   "cell_type": "code",
   "execution_count": 43,
   "metadata": {
    "execution": {
     "iopub.execute_input": "2020-12-18T19:36:46.573348Z",
     "iopub.status.busy": "2020-12-18T19:36:46.572616Z",
     "iopub.status.idle": "2020-12-18T19:36:46.584513Z",
     "shell.execute_reply": "2020-12-18T19:36:46.583307Z"
    },
    "id": "QH3hvbjp4FYD",
    "outputId": "8311bc63-971f-4203-9779-e61bf3c353e4",
    "papermill": {
     "duration": 0.040133,
     "end_time": "2020-12-18T19:36:46.584737",
     "exception": false,
     "start_time": "2020-12-18T19:36:46.544604",
     "status": "completed"
    },
    "tags": []
   },
   "outputs": [
    {
     "data": {
      "text/plain": [
       "Invoice ID                 0\n",
       "Branch                     0\n",
       "City                       0\n",
       "Customer type              0\n",
       "Gender                     0\n",
       "Product line               0\n",
       "Unit price                 0\n",
       "Quantity                   0\n",
       "Tax 5%                     0\n",
       "Total                      0\n",
       "Date                       0\n",
       "Time                       0\n",
       "Payment                    0\n",
       "cogs                       0\n",
       "gross margin percentage    0\n",
       "gross income               0\n",
       "Rating                     0\n",
       "dtype: int64"
      ]
     },
     "execution_count": 43,
     "metadata": {},
     "output_type": "execute_result"
    }
   ],
   "source": [
    "df.isnull().sum()"
   ]
  },
  {
   "cell_type": "code",
   "execution_count": 68,
   "metadata": {},
   "outputs": [
    {
     "data": {
      "text/plain": [
       "Index(['Branch', 'City', 'Customer type', 'Gender', 'Product line',\n",
       "       'Unit price', 'Quantity', 'Tax 5%', 'Total', 'Payment', 'cogs',\n",
       "       'gross income', 'Rating', 'Female', 'Male'],\n",
       "      dtype='object')"
      ]
     },
     "execution_count": 68,
     "metadata": {},
     "output_type": "execute_result"
    }
   ],
   "source": [
    "df.columns"
   ]
  },
  {
   "cell_type": "code",
   "execution_count": 46,
   "metadata": {
    "execution": {
     "iopub.execute_input": "2020-12-18T19:36:46.710214Z",
     "iopub.status.busy": "2020-12-18T19:36:46.709546Z",
     "iopub.status.idle": "2020-12-18T19:36:46.717727Z",
     "shell.execute_reply": "2020-12-18T19:36:46.717150Z"
    },
    "id": "T9gkthKd5xW1",
    "outputId": "03ca3331-e52c-46f4-d317-23baee76a4cd",
    "papermill": {
     "duration": 0.037042,
     "end_time": "2020-12-18T19:36:46.717860",
     "exception": false,
     "start_time": "2020-12-18T19:36:46.680818",
     "status": "completed"
    },
    "tags": []
   },
   "outputs": [
    {
     "data": {
      "text/plain": [
       "array([4.76190476])"
      ]
     },
     "execution_count": 46,
     "metadata": {},
     "output_type": "execute_result"
    }
   ],
   "source": [
    "# cogs - cost of goods sold\n",
    "df['gross margin percentage'].unique()"
   ]
  },
  {
   "cell_type": "code",
   "execution_count": null,
   "metadata": {
    "execution": {
     "iopub.execute_input": "2020-12-18T19:36:46.778858Z",
     "iopub.status.busy": "2020-12-18T19:36:46.777831Z",
     "iopub.status.idle": "2020-12-18T19:36:46.781701Z",
     "shell.execute_reply": "2020-12-18T19:36:46.781139Z"
    },
    "id": "ChUSDsYd7oOW",
    "papermill": {
     "duration": 0.037568,
     "end_time": "2020-12-18T19:36:46.781827",
     "exception": false,
     "start_time": "2020-12-18T19:36:46.744259",
     "status": "completed"
    },
    "tags": []
   },
   "outputs": [],
   "source": [
    "df = df.drop(['gross margin percentage'], axis = 1)"
   ]
  },
  {
   "cell_type": "code",
   "execution_count": 48,
   "metadata": {
    "execution": {
     "iopub.execute_input": "2020-12-18T19:36:46.838943Z",
     "iopub.status.busy": "2020-12-18T19:36:46.838218Z",
     "iopub.status.idle": "2020-12-18T19:36:46.857289Z",
     "shell.execute_reply": "2020-12-18T19:36:46.857793Z"
    },
    "id": "Anz8kZqA7wR0",
    "outputId": "3b595568-9b16-4a3e-d50c-1b70c3b3b9a3",
    "papermill": {
     "duration": 0.049081,
     "end_time": "2020-12-18T19:36:46.857955",
     "exception": false,
     "start_time": "2020-12-18T19:36:46.808874",
     "status": "completed"
    },
    "tags": []
   },
   "outputs": [
    {
     "data": {
      "text/html": [
       "<div>\n",
       "<style scoped>\n",
       "    .dataframe tbody tr th:only-of-type {\n",
       "        vertical-align: middle;\n",
       "    }\n",
       "\n",
       "    .dataframe tbody tr th {\n",
       "        vertical-align: top;\n",
       "    }\n",
       "\n",
       "    .dataframe thead th {\n",
       "        text-align: right;\n",
       "    }\n",
       "</style>\n",
       "<table border=\"1\" class=\"dataframe\">\n",
       "  <thead>\n",
       "    <tr style=\"text-align: right;\">\n",
       "      <th></th>\n",
       "      <th>Branch</th>\n",
       "      <th>City</th>\n",
       "      <th>Customer type</th>\n",
       "      <th>Gender</th>\n",
       "      <th>Product line</th>\n",
       "      <th>Unit price</th>\n",
       "      <th>Quantity</th>\n",
       "      <th>Tax 5%</th>\n",
       "      <th>Total</th>\n",
       "      <th>Payment</th>\n",
       "      <th>cogs</th>\n",
       "      <th>gross income</th>\n",
       "      <th>Rating</th>\n",
       "    </tr>\n",
       "  </thead>\n",
       "  <tbody>\n",
       "    <tr>\n",
       "      <th>0</th>\n",
       "      <td>A</td>\n",
       "      <td>Yangon</td>\n",
       "      <td>Member</td>\n",
       "      <td>Female</td>\n",
       "      <td>Health and beauty</td>\n",
       "      <td>74.69</td>\n",
       "      <td>7</td>\n",
       "      <td>26.1415</td>\n",
       "      <td>548.9715</td>\n",
       "      <td>Ewallet</td>\n",
       "      <td>522.83</td>\n",
       "      <td>26.1415</td>\n",
       "      <td>9.1</td>\n",
       "    </tr>\n",
       "    <tr>\n",
       "      <th>1</th>\n",
       "      <td>C</td>\n",
       "      <td>Naypyitaw</td>\n",
       "      <td>Normal</td>\n",
       "      <td>Female</td>\n",
       "      <td>Electronic accessories</td>\n",
       "      <td>15.28</td>\n",
       "      <td>5</td>\n",
       "      <td>3.8200</td>\n",
       "      <td>80.2200</td>\n",
       "      <td>Cash</td>\n",
       "      <td>76.40</td>\n",
       "      <td>3.8200</td>\n",
       "      <td>9.6</td>\n",
       "    </tr>\n",
       "    <tr>\n",
       "      <th>2</th>\n",
       "      <td>A</td>\n",
       "      <td>Yangon</td>\n",
       "      <td>Normal</td>\n",
       "      <td>Male</td>\n",
       "      <td>Home and lifestyle</td>\n",
       "      <td>46.33</td>\n",
       "      <td>7</td>\n",
       "      <td>16.2155</td>\n",
       "      <td>340.5255</td>\n",
       "      <td>Credit card</td>\n",
       "      <td>324.31</td>\n",
       "      <td>16.2155</td>\n",
       "      <td>7.4</td>\n",
       "    </tr>\n",
       "    <tr>\n",
       "      <th>3</th>\n",
       "      <td>A</td>\n",
       "      <td>Yangon</td>\n",
       "      <td>Member</td>\n",
       "      <td>Male</td>\n",
       "      <td>Health and beauty</td>\n",
       "      <td>58.22</td>\n",
       "      <td>8</td>\n",
       "      <td>23.2880</td>\n",
       "      <td>489.0480</td>\n",
       "      <td>Ewallet</td>\n",
       "      <td>465.76</td>\n",
       "      <td>23.2880</td>\n",
       "      <td>8.4</td>\n",
       "    </tr>\n",
       "    <tr>\n",
       "      <th>4</th>\n",
       "      <td>A</td>\n",
       "      <td>Yangon</td>\n",
       "      <td>Normal</td>\n",
       "      <td>Male</td>\n",
       "      <td>Sports and travel</td>\n",
       "      <td>86.31</td>\n",
       "      <td>7</td>\n",
       "      <td>30.2085</td>\n",
       "      <td>634.3785</td>\n",
       "      <td>Ewallet</td>\n",
       "      <td>604.17</td>\n",
       "      <td>30.2085</td>\n",
       "      <td>5.3</td>\n",
       "    </tr>\n",
       "  </tbody>\n",
       "</table>\n",
       "</div>"
      ],
      "text/plain": [
       "  Branch       City Customer type  Gender            Product line  Unit price  \\\n",
       "0      A     Yangon        Member  Female       Health and beauty       74.69   \n",
       "1      C  Naypyitaw        Normal  Female  Electronic accessories       15.28   \n",
       "2      A     Yangon        Normal    Male      Home and lifestyle       46.33   \n",
       "3      A     Yangon        Member    Male       Health and beauty       58.22   \n",
       "4      A     Yangon        Normal    Male       Sports and travel       86.31   \n",
       "\n",
       "   Quantity   Tax 5%     Total      Payment    cogs  gross income  Rating  \n",
       "0         7  26.1415  548.9715      Ewallet  522.83       26.1415     9.1  \n",
       "1         5   3.8200   80.2200         Cash   76.40        3.8200     9.6  \n",
       "2         7  16.2155  340.5255  Credit card  324.31       16.2155     7.4  \n",
       "3         8  23.2880  489.0480      Ewallet  465.76       23.2880     8.4  \n",
       "4         7  30.2085  634.3785      Ewallet  604.17       30.2085     5.3  "
      ]
     },
     "execution_count": 48,
     "metadata": {},
     "output_type": "execute_result"
    }
   ],
   "source": [
    "df.head(5)"
   ]
  },
  {
   "cell_type": "markdown",
   "metadata": {
    "id": "evHmFS4MURY2",
    "papermill": {
     "duration": 0.027207,
     "end_time": "2020-12-18T19:36:46.912718",
     "exception": false,
     "start_time": "2020-12-18T19:36:46.885511",
     "status": "completed"
    },
    "tags": []
   },
   "source": [
    "## **Data Visualisation**"
   ]
  },
  {
   "cell_type": "markdown",
   "metadata": {
    "id": "db9OXNgsYAD4",
    "papermill": {
     "duration": 0.027634,
     "end_time": "2020-12-18T19:36:46.967673",
     "exception": false,
     "start_time": "2020-12-18T19:36:46.940039",
     "status": "completed"
    },
    "tags": []
   },
   "source": [
    "**Below graph shows count of females and males is almost same** "
   ]
  },
  {
   "cell_type": "code",
   "execution_count": 49,
   "metadata": {
    "execution": {
     "iopub.execute_input": "2020-12-18T19:36:47.026357Z",
     "iopub.status.busy": "2020-12-18T19:36:47.025667Z",
     "iopub.status.idle": "2020-12-18T19:36:47.036818Z",
     "shell.execute_reply": "2020-12-18T19:36:47.036169Z"
    },
    "id": "NrX6aCsLbk6U",
    "outputId": "89163a9b-3fd6-48cc-ae99-637ed8c74b8b",
    "papermill": {
     "duration": 0.042021,
     "end_time": "2020-12-18T19:36:47.036939",
     "exception": false,
     "start_time": "2020-12-18T19:36:46.994918",
     "status": "completed"
    },
    "tags": []
   },
   "outputs": [
    {
     "name": "stdout",
     "output_type": "stream",
     "text": [
      "(1000, 13)\n"
     ]
    },
    {
     "data": {
      "text/plain": [
       "Female    501\n",
       "Male      499\n",
       "Name: Gender, dtype: int64"
      ]
     },
     "execution_count": 49,
     "metadata": {},
     "output_type": "execute_result"
    }
   ],
   "source": [
    "print(df.shape)\n",
    "df['Gender'].value_counts()"
   ]
  },
  {
   "cell_type": "code",
   "execution_count": 50,
   "metadata": {
    "execution": {
     "iopub.execute_input": "2020-12-18T19:36:47.103780Z",
     "iopub.status.busy": "2020-12-18T19:36:47.102225Z",
     "iopub.status.idle": "2020-12-18T19:36:47.274081Z",
     "shell.execute_reply": "2020-12-18T19:36:47.273443Z"
    },
    "id": "P-9Pq1tJ8EyU",
    "outputId": "a5d2d6c2-c774-4f91-9724-fce7269f3952",
    "papermill": {
     "duration": 0.208793,
     "end_time": "2020-12-18T19:36:47.274196",
     "exception": false,
     "start_time": "2020-12-18T19:36:47.065403",
     "status": "completed"
    },
    "tags": []
   },
   "outputs": [
    {
     "name": "stderr",
     "output_type": "stream",
     "text": [
      "C:\\Users\\hp\\anaconda3\\lib\\site-packages\\seaborn\\_decorators.py:36: FutureWarning: Pass the following variable as a keyword arg: x. From version 0.12, the only valid positional argument will be `data`, and passing other arguments without an explicit keyword will result in an error or misinterpretation.\n",
      "  warnings.warn(\n"
     ]
    },
    {
     "data": {
      "text/plain": [
       "<AxesSubplot:xlabel='Gender', ylabel='count'>"
      ]
     },
     "execution_count": 50,
     "metadata": {},
     "output_type": "execute_result"
    },
    {
     "data": {
      "image/png": "[encoded data removed]",
      "text/plain": [
       "<Figure size 432x288 with 1 Axes>"
      ]
     },
     "metadata": {
      "needs_background": "light"
     },
     "output_type": "display_data"
    }
   ],
   "source": [
    "sns.countplot('Gender' , data = df)"
   ]
  },
  {
   "cell_type": "markdown",
   "metadata": {
    "id": "v6P_JtOKYJ7v",
    "papermill": {
     "duration": 0.028506,
     "end_time": "2020-12-18T19:36:47.331624",
     "exception": false,
     "start_time": "2020-12-18T19:36:47.303118",
     "status": "completed"
    },
    "tags": []
   },
   "source": [
    "**Creating dummies for Gender column for getting numeric data for seaborn bar plot**"
   ]
  },
  {
   "cell_type": "code",
   "execution_count": 51,
   "metadata": {
    "execution": {
     "iopub.execute_input": "2020-12-18T19:36:47.395878Z",
     "iopub.status.busy": "2020-12-18T19:36:47.394839Z",
     "iopub.status.idle": "2020-12-18T19:36:47.404544Z",
     "shell.execute_reply": "2020-12-18T19:36:47.403824Z"
    },
    "id": "skENBC06CwP0",
    "outputId": "f4630109-923d-43bd-b35d-255b43bd5e65",
    "papermill": {
     "duration": 0.044365,
     "end_time": "2020-12-18T19:36:47.404660",
     "exception": false,
     "start_time": "2020-12-18T19:36:47.360295",
     "status": "completed"
    },
    "tags": []
   },
   "outputs": [
    {
     "data": {
      "text/html": [
       "<div>\n",
       "<style scoped>\n",
       "    .dataframe tbody tr th:only-of-type {\n",
       "        vertical-align: middle;\n",
       "    }\n",
       "\n",
       "    .dataframe tbody tr th {\n",
       "        vertical-align: top;\n",
       "    }\n",
       "\n",
       "    .dataframe thead th {\n",
       "        text-align: right;\n",
       "    }\n",
       "</style>\n",
       "<table border=\"1\" class=\"dataframe\">\n",
       "  <thead>\n",
       "    <tr style=\"text-align: right;\">\n",
       "      <th></th>\n",
       "      <th>Female</th>\n",
       "      <th>Male</th>\n",
       "    </tr>\n",
       "  </thead>\n",
       "  <tbody>\n",
       "    <tr>\n",
       "      <th>0</th>\n",
       "      <td>1</td>\n",
       "      <td>0</td>\n",
       "    </tr>\n",
       "    <tr>\n",
       "      <th>1</th>\n",
       "      <td>1</td>\n",
       "      <td>0</td>\n",
       "    </tr>\n",
       "    <tr>\n",
       "      <th>2</th>\n",
       "      <td>0</td>\n",
       "      <td>1</td>\n",
       "    </tr>\n",
       "    <tr>\n",
       "      <th>3</th>\n",
       "      <td>0</td>\n",
       "      <td>1</td>\n",
       "    </tr>\n",
       "    <tr>\n",
       "      <th>4</th>\n",
       "      <td>0</td>\n",
       "      <td>1</td>\n",
       "    </tr>\n",
       "  </tbody>\n",
       "</table>\n",
       "</div>"
      ],
      "text/plain": [
       "   Female  Male\n",
       "0       1     0\n",
       "1       1     0\n",
       "2       0     1\n",
       "3       0     1\n",
       "4       0     1"
      ]
     },
     "execution_count": 51,
     "metadata": {},
     "output_type": "execute_result"
    }
   ],
   "source": [
    "gender_dummies  = pd.get_dummies(df['Gender'])\n",
    "gender_dummies.head()"
   ]
  },
  {
   "cell_type": "markdown",
   "metadata": {
    "id": "YZjjUIK4YeZW",
    "papermill": {
     "duration": 0.028936,
     "end_time": "2020-12-18T19:36:47.464323",
     "exception": false,
     "start_time": "2020-12-18T19:36:47.435387",
     "status": "completed"
    },
    "tags": []
   },
   "source": [
    "**Joining original data frame (df) with gender dummies data frame (gender_dummies)**"
   ]
  },
  {
   "cell_type": "code",
   "execution_count": 52,
   "metadata": {
    "execution": {
     "iopub.execute_input": "2020-12-18T19:36:47.546128Z",
     "iopub.status.busy": "2020-12-18T19:36:47.545047Z",
     "iopub.status.idle": "2020-12-18T19:36:47.549524Z",
     "shell.execute_reply": "2020-12-18T19:36:47.550001Z"
    },
    "id": "x4hFMLp0XCIK",
    "outputId": "e2433acc-53d1-41d7-95aa-4f185bb34706",
    "papermill": {
     "duration": 0.056714,
     "end_time": "2020-12-18T19:36:47.550170",
     "exception": false,
     "start_time": "2020-12-18T19:36:47.493456",
     "status": "completed"
    },
    "tags": []
   },
   "outputs": [
    {
     "data": {
      "text/html": [
       "<div>\n",
       "<style scoped>\n",
       "    .dataframe tbody tr th:only-of-type {\n",
       "        vertical-align: middle;\n",
       "    }\n",
       "\n",
       "    .dataframe tbody tr th {\n",
       "        vertical-align: top;\n",
       "    }\n",
       "\n",
       "    .dataframe thead th {\n",
       "        text-align: right;\n",
       "    }\n",
       "</style>\n",
       "<table border=\"1\" class=\"dataframe\">\n",
       "  <thead>\n",
       "    <tr style=\"text-align: right;\">\n",
       "      <th></th>\n",
       "      <th>Branch</th>\n",
       "      <th>City</th>\n",
       "      <th>Customer type</th>\n",
       "      <th>Gender</th>\n",
       "      <th>Product line</th>\n",
       "      <th>Unit price</th>\n",
       "      <th>Quantity</th>\n",
       "      <th>Tax 5%</th>\n",
       "      <th>Total</th>\n",
       "      <th>Payment</th>\n",
       "      <th>cogs</th>\n",
       "      <th>gross income</th>\n",
       "      <th>Rating</th>\n",
       "      <th>Female</th>\n",
       "      <th>Male</th>\n",
       "    </tr>\n",
       "  </thead>\n",
       "  <tbody>\n",
       "    <tr>\n",
       "      <th>0</th>\n",
       "      <td>A</td>\n",
       "      <td>Yangon</td>\n",
       "      <td>Member</td>\n",
       "      <td>Female</td>\n",
       "      <td>Health and beauty</td>\n",
       "      <td>74.69</td>\n",
       "      <td>7</td>\n",
       "      <td>26.1415</td>\n",
       "      <td>548.9715</td>\n",
       "      <td>Ewallet</td>\n",
       "      <td>522.83</td>\n",
       "      <td>26.1415</td>\n",
       "      <td>9.1</td>\n",
       "      <td>1</td>\n",
       "      <td>0</td>\n",
       "    </tr>\n",
       "    <tr>\n",
       "      <th>1</th>\n",
       "      <td>C</td>\n",
       "      <td>Naypyitaw</td>\n",
       "      <td>Normal</td>\n",
       "      <td>Female</td>\n",
       "      <td>Electronic accessories</td>\n",
       "      <td>15.28</td>\n",
       "      <td>5</td>\n",
       "      <td>3.8200</td>\n",
       "      <td>80.2200</td>\n",
       "      <td>Cash</td>\n",
       "      <td>76.40</td>\n",
       "      <td>3.8200</td>\n",
       "      <td>9.6</td>\n",
       "      <td>1</td>\n",
       "      <td>0</td>\n",
       "    </tr>\n",
       "    <tr>\n",
       "      <th>2</th>\n",
       "      <td>A</td>\n",
       "      <td>Yangon</td>\n",
       "      <td>Normal</td>\n",
       "      <td>Male</td>\n",
       "      <td>Home and lifestyle</td>\n",
       "      <td>46.33</td>\n",
       "      <td>7</td>\n",
       "      <td>16.2155</td>\n",
       "      <td>340.5255</td>\n",
       "      <td>Credit card</td>\n",
       "      <td>324.31</td>\n",
       "      <td>16.2155</td>\n",
       "      <td>7.4</td>\n",
       "      <td>0</td>\n",
       "      <td>1</td>\n",
       "    </tr>\n",
       "    <tr>\n",
       "      <th>3</th>\n",
       "      <td>A</td>\n",
       "      <td>Yangon</td>\n",
       "      <td>Member</td>\n",
       "      <td>Male</td>\n",
       "      <td>Health and beauty</td>\n",
       "      <td>58.22</td>\n",
       "      <td>8</td>\n",
       "      <td>23.2880</td>\n",
       "      <td>489.0480</td>\n",
       "      <td>Ewallet</td>\n",
       "      <td>465.76</td>\n",
       "      <td>23.2880</td>\n",
       "      <td>8.4</td>\n",
       "      <td>0</td>\n",
       "      <td>1</td>\n",
       "    </tr>\n",
       "    <tr>\n",
       "      <th>4</th>\n",
       "      <td>A</td>\n",
       "      <td>Yangon</td>\n",
       "      <td>Normal</td>\n",
       "      <td>Male</td>\n",
       "      <td>Sports and travel</td>\n",
       "      <td>86.31</td>\n",
       "      <td>7</td>\n",
       "      <td>30.2085</td>\n",
       "      <td>634.3785</td>\n",
       "      <td>Ewallet</td>\n",
       "      <td>604.17</td>\n",
       "      <td>30.2085</td>\n",
       "      <td>5.3</td>\n",
       "      <td>0</td>\n",
       "      <td>1</td>\n",
       "    </tr>\n",
       "  </tbody>\n",
       "</table>\n",
       "</div>"
      ],
      "text/plain": [
       "  Branch       City Customer type  Gender            Product line  Unit price  \\\n",
       "0      A     Yangon        Member  Female       Health and beauty       74.69   \n",
       "1      C  Naypyitaw        Normal  Female  Electronic accessories       15.28   \n",
       "2      A     Yangon        Normal    Male      Home and lifestyle       46.33   \n",
       "3      A     Yangon        Member    Male       Health and beauty       58.22   \n",
       "4      A     Yangon        Normal    Male       Sports and travel       86.31   \n",
       "\n",
       "   Quantity   Tax 5%     Total      Payment    cogs  gross income  Rating  \\\n",
       "0         7  26.1415  548.9715      Ewallet  522.83       26.1415     9.1   \n",
       "1         5   3.8200   80.2200         Cash   76.40        3.8200     9.6   \n",
       "2         7  16.2155  340.5255  Credit card  324.31       16.2155     7.4   \n",
       "3         8  23.2880  489.0480      Ewallet  465.76       23.2880     8.4   \n",
       "4         7  30.2085  634.3785      Ewallet  604.17       30.2085     5.3   \n",
       "\n",
       "   Female  Male  \n",
       "0       1     0  \n",
       "1       1     0  \n",
       "2       0     1  \n",
       "3       0     1  \n",
       "4       0     1  "
      ]
     },
     "execution_count": 52,
     "metadata": {},
     "output_type": "execute_result"
    }
   ],
   "source": [
    "df = pd.concat([df, gender_dummies], axis = 1)\n",
    "df.head()"
   ]
  },
  {
   "cell_type": "code",
   "execution_count": 53,
   "metadata": {
    "execution": {
     "iopub.execute_input": "2020-12-18T19:36:47.625534Z",
     "iopub.status.busy": "2020-12-18T19:36:47.624778Z",
     "iopub.status.idle": "2020-12-18T19:36:48.003643Z",
     "shell.execute_reply": "2020-12-18T19:36:48.003046Z"
    },
    "id": "YrmxVcScXLxB",
    "outputId": "9dff5e17-3895-44a4-c16e-63b422b3b448",
    "papermill": {
     "duration": 0.421855,
     "end_time": "2020-12-18T19:36:48.003801",
     "exception": false,
     "start_time": "2020-12-18T19:36:47.581946",
     "status": "completed"
    },
    "tags": []
   },
   "outputs": [
    {
     "data": {
      "text/plain": [
       "<AxesSubplot:xlabel='Product line', ylabel='Female'>"
      ]
     },
     "execution_count": 53,
     "metadata": {},
     "output_type": "execute_result"
    },
    {
     "data": {
      "image/png": "[encoded data removed]",
      "text/plain": [
       "<Figure size 864x432 with 1 Axes>"
      ]
     },
     "metadata": {
      "needs_background": "light"
     },
     "output_type": "display_data"
    }
   ],
   "source": [
    "plt.figure(figsize = (12,6))\n",
    "sns.barplot(x = 'Product line', y = 'Female', data = df)"
   ]
  },
  {
   "cell_type": "code",
   "execution_count": 54,
   "metadata": {
    "execution": {
     "iopub.execute_input": "2020-12-18T19:36:48.078247Z",
     "iopub.status.busy": "2020-12-18T19:36:48.075325Z",
     "iopub.status.idle": "2020-12-18T19:36:48.462380Z",
     "shell.execute_reply": "2020-12-18T19:36:48.461766Z"
    },
    "id": "pjOPEJHnZlGX",
    "outputId": "f25a05d1-34e4-43e2-a2df-a044c91b77ae",
    "papermill": {
     "duration": 0.426672,
     "end_time": "2020-12-18T19:36:48.462495",
     "exception": false,
     "start_time": "2020-12-18T19:36:48.035823",
     "status": "completed"
    },
    "tags": []
   },
   "outputs": [
    {
     "data": {
      "text/plain": [
       "<AxesSubplot:xlabel='Product line', ylabel='Male'>"
      ]
     },
     "execution_count": 54,
     "metadata": {},
     "output_type": "execute_result"
    },
    {
     "data": {
      "image/png": "[encoded data removed]",
      "text/plain": [
       "<Figure size 864x432 with 1 Axes>"
      ]
     },
     "metadata": {
      "needs_background": "light"
     },
     "output_type": "display_data"
    }
   ],
   "source": [
    "plt.figure(figsize = (12,6))\n",
    "sns.barplot(x = 'Product line', y = 'Male', data = df)"
   ]
  },
  {
   "cell_type": "markdown",
   "metadata": {
    "id": "-ASKDyOQJXnv",
    "papermill": {
     "duration": 0.03332,
     "end_time": "2020-12-18T19:36:48.529930",
     "exception": false,
     "start_time": "2020-12-18T19:36:48.496610",
     "status": "completed"
    },
    "tags": []
   },
   "source": [
    "**Plotting Customers per city**"
   ]
  },
  {
   "cell_type": "code",
   "execution_count": 55,
   "metadata": {
    "execution": {
     "iopub.execute_input": "2020-12-18T19:36:48.613533Z",
     "iopub.status.busy": "2020-12-18T19:36:48.611970Z",
     "iopub.status.idle": "2020-12-18T19:36:48.619652Z",
     "shell.execute_reply": "2020-12-18T19:36:48.618626Z"
    },
    "id": "XZOXyUG9ajRd",
    "outputId": "96059f28-eda8-4a3e-e3ca-dfa942ba6c85",
    "papermill": {
     "duration": 0.056948,
     "end_time": "2020-12-18T19:36:48.619851",
     "exception": false,
     "start_time": "2020-12-18T19:36:48.562903",
     "status": "completed"
    },
    "tags": []
   },
   "outputs": [
    {
     "data": {
      "text/html": [
       "<div>\n",
       "<style scoped>\n",
       "    .dataframe tbody tr th:only-of-type {\n",
       "        vertical-align: middle;\n",
       "    }\n",
       "\n",
       "    .dataframe tbody tr th {\n",
       "        vertical-align: top;\n",
       "    }\n",
       "\n",
       "    .dataframe thead th {\n",
       "        text-align: right;\n",
       "    }\n",
       "</style>\n",
       "<table border=\"1\" class=\"dataframe\">\n",
       "  <thead>\n",
       "    <tr style=\"text-align: right;\">\n",
       "      <th></th>\n",
       "      <th>City</th>\n",
       "    </tr>\n",
       "  </thead>\n",
       "  <tbody>\n",
       "    <tr>\n",
       "      <th>Yangon</th>\n",
       "      <td>340</td>\n",
       "    </tr>\n",
       "    <tr>\n",
       "      <th>Mandalay</th>\n",
       "      <td>332</td>\n",
       "    </tr>\n",
       "    <tr>\n",
       "      <th>Naypyitaw</th>\n",
       "      <td>328</td>\n",
       "    </tr>\n",
       "  </tbody>\n",
       "</table>\n",
       "</div>"
      ],
      "text/plain": [
       "           City\n",
       "Yangon      340\n",
       "Mandalay    332\n",
       "Naypyitaw   328"
      ]
     },
     "execution_count": 55,
     "metadata": {},
     "output_type": "execute_result"
    }
   ],
   "source": [
    "place_df = pd.DataFrame(df['City'].value_counts())\n",
    "place_df"
   ]
  },
  {
   "cell_type": "code",
   "execution_count": 56,
   "metadata": {
    "execution": {
     "iopub.execute_input": "2020-12-18T19:36:48.736408Z",
     "iopub.status.busy": "2020-12-18T19:36:48.735402Z",
     "iopub.status.idle": "2020-12-18T19:36:48.888867Z",
     "shell.execute_reply": "2020-12-18T19:36:48.889496Z"
    },
    "id": "yI_cY4wCc4AS",
    "outputId": "5ff84864-b6e9-4fbd-a09b-0219422d4573",
    "papermill": {
     "duration": 0.212259,
     "end_time": "2020-12-18T19:36:48.889648",
     "exception": false,
     "start_time": "2020-12-18T19:36:48.677389",
     "status": "completed"
    },
    "tags": []
   },
   "outputs": [
    {
     "data": {
      "text/plain": [
       "<AxesSubplot:ylabel='City'>"
      ]
     },
     "execution_count": 56,
     "metadata": {},
     "output_type": "execute_result"
    },
    {
     "data": {
      "image/png": "[encoded data removed]",
      "text/plain": [
       "<Figure size 432x288 with 1 Axes>"
      ]
     },
     "metadata": {
      "needs_background": "light"
     },
     "output_type": "display_data"
    }
   ],
   "source": [
    "sns.barplot(x = place_df.index  , y = place_df['City'], palette = 'hot')"
   ]
  },
  {
   "cell_type": "markdown",
   "metadata": {
    "id": "cOLNDuHzKVTi",
    "papermill": {
     "duration": 0.034959,
     "end_time": "2020-12-18T19:36:48.960693",
     "exception": false,
     "start_time": "2020-12-18T19:36:48.925734",
     "status": "completed"
    },
    "tags": []
   },
   "source": [
    "**Plotting different payment methods count**\n",
    "\n",
    "\n"
   ]
  },
  {
   "cell_type": "code",
   "execution_count": 57,
   "metadata": {
    "execution": {
     "iopub.execute_input": "2020-12-18T19:36:49.033475Z",
     "iopub.status.busy": "2020-12-18T19:36:49.032655Z",
     "iopub.status.idle": "2020-12-18T19:36:49.043363Z",
     "shell.execute_reply": "2020-12-18T19:36:49.043927Z"
    },
    "id": "7FK8vRapKlHr",
    "outputId": "679bf334-0fe4-48f6-9413-04f5eb7b276a",
    "papermill": {
     "duration": 0.048839,
     "end_time": "2020-12-18T19:36:49.044094",
     "exception": false,
     "start_time": "2020-12-18T19:36:48.995255",
     "status": "completed"
    },
    "tags": []
   },
   "outputs": [
    {
     "data": {
      "text/html": [
       "<div>\n",
       "<style scoped>\n",
       "    .dataframe tbody tr th:only-of-type {\n",
       "        vertical-align: middle;\n",
       "    }\n",
       "\n",
       "    .dataframe tbody tr th {\n",
       "        vertical-align: top;\n",
       "    }\n",
       "\n",
       "    .dataframe thead th {\n",
       "        text-align: right;\n",
       "    }\n",
       "</style>\n",
       "<table border=\"1\" class=\"dataframe\">\n",
       "  <thead>\n",
       "    <tr style=\"text-align: right;\">\n",
       "      <th></th>\n",
       "      <th>Payment</th>\n",
       "    </tr>\n",
       "  </thead>\n",
       "  <tbody>\n",
       "    <tr>\n",
       "      <th>Ewallet</th>\n",
       "      <td>345</td>\n",
       "    </tr>\n",
       "    <tr>\n",
       "      <th>Cash</th>\n",
       "      <td>344</td>\n",
       "    </tr>\n",
       "    <tr>\n",
       "      <th>Credit card</th>\n",
       "      <td>311</td>\n",
       "    </tr>\n",
       "  </tbody>\n",
       "</table>\n",
       "</div>"
      ],
      "text/plain": [
       "             Payment\n",
       "Ewallet          345\n",
       "Cash             344\n",
       "Credit card      311"
      ]
     },
     "execution_count": 57,
     "metadata": {},
     "output_type": "execute_result"
    }
   ],
   "source": [
    "payment_df = pd.DataFrame(df['Payment'].value_counts())\n",
    "payment_df"
   ]
  },
  {
   "cell_type": "code",
   "execution_count": 58,
   "metadata": {
    "execution": {
     "iopub.execute_input": "2020-12-18T19:36:49.117559Z",
     "iopub.status.busy": "2020-12-18T19:36:49.116831Z",
     "iopub.status.idle": "2020-12-18T19:36:49.246873Z",
     "shell.execute_reply": "2020-12-18T19:36:49.247381Z"
    },
    "id": "dqB-mKfdKSZN",
    "outputId": "fa7cd6e6-34ca-4c75-90dd-340f97a1249f",
    "papermill": {
     "duration": 0.168417,
     "end_time": "2020-12-18T19:36:49.247537",
     "exception": false,
     "start_time": "2020-12-18T19:36:49.079120",
     "status": "completed"
    },
    "tags": []
   },
   "outputs": [
    {
     "data": {
      "text/plain": [
       "<AxesSubplot:ylabel='Payment'>"
      ]
     },
     "execution_count": 58,
     "metadata": {},
     "output_type": "execute_result"
    },
    {
     "data": {
      "image/png": "[encoded data removed]",
      "text/plain": [
       "<Figure size 432x288 with 1 Axes>"
      ]
     },
     "metadata": {
      "needs_background": "light"
     },
     "output_type": "display_data"
    }
   ],
   "source": [
    "sns.barplot(x =payment_df.index , y = payment_df.Payment)"
   ]
  },
  {
   "cell_type": "markdown",
   "metadata": {
    "id": "GVeRps3sLnv-",
    "papermill": {
     "duration": 0.036146,
     "end_time": "2020-12-18T19:36:49.319877",
     "exception": false,
     "start_time": "2020-12-18T19:36:49.283731",
     "status": "completed"
    },
    "tags": []
   },
   "source": [
    "**Getting Gross Income Plot for each product line**"
   ]
  },
  {
   "cell_type": "code",
   "execution_count": 59,
   "metadata": {
    "execution": {
     "iopub.execute_input": "2020-12-18T19:36:49.399794Z",
     "iopub.status.busy": "2020-12-18T19:36:49.398978Z",
     "iopub.status.idle": "2020-12-18T19:36:49.765307Z",
     "shell.execute_reply": "2020-12-18T19:36:49.765771Z"
    },
    "id": "QCs0YFaQLs3W",
    "outputId": "79cec7e1-af30-4a1e-a3c9-d48fd4a902c3",
    "papermill": {
     "duration": 0.410059,
     "end_time": "2020-12-18T19:36:49.765917",
     "exception": false,
     "start_time": "2020-12-18T19:36:49.355858",
     "status": "completed"
    },
    "tags": []
   },
   "outputs": [
    {
     "data": {
      "text/plain": [
       "<AxesSubplot:xlabel='Product line', ylabel='gross income'>"
      ]
     },
     "execution_count": 59,
     "metadata": {},
     "output_type": "execute_result"
    },
    {
     "data": {
      "image/png": "[encoded data removed]",
      "text/plain": [
       "<Figure size 864x432 with 1 Axes>"
      ]
     },
     "metadata": {
      "needs_background": "light"
     },
     "output_type": "display_data"
    }
   ],
   "source": [
    "plt.figure(figsize= (12,6))\n",
    "sns.barplot(x = df['Product line'], y = df['gross income'])"
   ]
  },
  {
   "cell_type": "markdown",
   "metadata": {
    "id": "kplluJ0DMPds",
    "papermill": {
     "duration": 0.037622,
     "end_time": "2020-12-18T19:36:49.842436",
     "exception": false,
     "start_time": "2020-12-18T19:36:49.804814",
     "status": "completed"
    },
    "tags": []
   },
   "source": [
    "**Getting Rating Plot for each product line**"
   ]
  },
  {
   "cell_type": "code",
   "execution_count": 60,
   "metadata": {
    "execution": {
     "iopub.execute_input": "2020-12-18T19:36:49.928784Z",
     "iopub.status.busy": "2020-12-18T19:36:49.927907Z",
     "iopub.status.idle": "2020-12-18T19:36:50.361319Z",
     "shell.execute_reply": "2020-12-18T19:36:50.361844Z"
    },
    "id": "adSFweBpMSR4",
    "outputId": "29f29dbe-fdae-4a6f-b21f-8b784d4f3d0e",
    "papermill": {
     "duration": 0.48109,
     "end_time": "2020-12-18T19:36:50.362001",
     "exception": false,
     "start_time": "2020-12-18T19:36:49.880911",
     "status": "completed"
    },
    "tags": []
   },
   "outputs": [
    {
     "data": {
      "text/plain": [
       "([<matplotlib.axis.XTick at 0x18b9e78fa30>,\n",
       "  <matplotlib.axis.XTick at 0x18b9e78fa00>,\n",
       "  <matplotlib.axis.XTick at 0x18b9e76f550>,\n",
       "  <matplotlib.axis.XTick at 0x18b9e78a400>,\n",
       "  <matplotlib.axis.XTick at 0x18b9e7ee220>,\n",
       "  <matplotlib.axis.XTick at 0x18b9e7ee970>,\n",
       "  <matplotlib.axis.XTick at 0x18b9e7f3100>,\n",
       "  <matplotlib.axis.XTick at 0x18b9e7ee9a0>,\n",
       "  <matplotlib.axis.XTick at 0x18b9e7e6d90>,\n",
       "  <matplotlib.axis.XTick at 0x18b9e7f3130>,\n",
       "  <matplotlib.axis.XTick at 0x18b9e7f3c40>],\n",
       " [Text(0, 0, ''),\n",
       "  Text(0, 0, ''),\n",
       "  Text(0, 0, ''),\n",
       "  Text(0, 0, ''),\n",
       "  Text(0, 0, ''),\n",
       "  Text(0, 0, ''),\n",
       "  Text(0, 0, ''),\n",
       "  Text(0, 0, ''),\n",
       "  Text(0, 0, ''),\n",
       "  Text(0, 0, ''),\n",
       "  Text(0, 0, '')])"
      ]
     },
     "execution_count": 60,
     "metadata": {},
     "output_type": "execute_result"
    },
    {
     "data": {
      "image/png": "[encoded data removed]",
      "text/plain": [
       "<Figure size 864x432 with 1 Axes>"
      ]
     },
     "metadata": {
      "needs_background": "light"
     },
     "output_type": "display_data"
    }
   ],
   "source": [
    "xdata = [0,1,2,3,4,5,6,7,8,9,10]\n",
    "plt.figure(figsize = (12,6))\n",
    "sns.barplot(y = df['Product line'], x = df['Rating'])\n",
    "plt.xticks(xdata)"
   ]
  },
  {
   "cell_type": "markdown",
   "metadata": {
    "id": "xs_G7xfQPUt5",
    "papermill": {
     "duration": 0.038932,
     "end_time": "2020-12-18T19:36:50.440221",
     "exception": false,
     "start_time": "2020-12-18T19:36:50.401289",
     "status": "completed"
    },
    "tags": []
   },
   "source": [
    "**Total bill in each product line**"
   ]
  },
  {
   "cell_type": "code",
   "execution_count": 61,
   "metadata": {
    "execution": {
     "iopub.execute_input": "2020-12-18T19:36:50.526945Z",
     "iopub.status.busy": "2020-12-18T19:36:50.526219Z",
     "iopub.status.idle": "2020-12-18T19:36:50.889317Z",
     "shell.execute_reply": "2020-12-18T19:36:50.889806Z"
    },
    "id": "ozNmL8lxPZ2D",
    "outputId": "4976c668-07a1-4937-d979-0464e2dc32d6",
    "papermill": {
     "duration": 0.411184,
     "end_time": "2020-12-18T19:36:50.889957",
     "exception": false,
     "start_time": "2020-12-18T19:36:50.478773",
     "status": "completed"
    },
    "tags": []
   },
   "outputs": [
    {
     "data": {
      "text/plain": [
       "<AxesSubplot:xlabel='Total', ylabel='Product line'>"
      ]
     },
     "execution_count": 61,
     "metadata": {},
     "output_type": "execute_result"
    },
    {
     "data": {
      "image/png": "[encoded data removed]",
      "text/plain": [
       "<Figure size 864x432 with 1 Axes>"
      ]
     },
     "metadata": {
      "needs_background": "light"
     },
     "output_type": "display_data"
    }
   ],
   "source": [
    "plt.figure(figsize = (12,6))\n",
    "sns.barplot(x = df['Total'] , y = df['Product line'])"
   ]
  },
  {
   "cell_type": "markdown",
   "metadata": {
    "id": "ehdn_uSXLS_p",
    "papermill": {
     "duration": 0.039989,
     "end_time": "2020-12-18T19:36:50.970336",
     "exception": false,
     "start_time": "2020-12-18T19:36:50.930347",
     "status": "completed"
    },
    "tags": []
   },
   "source": [
    "**Exploring Quantity Column**"
   ]
  },
  {
   "cell_type": "code",
   "execution_count": 62,
   "metadata": {
    "execution": {
     "iopub.execute_input": "2020-12-18T19:36:51.054263Z",
     "iopub.status.busy": "2020-12-18T19:36:51.053620Z",
     "iopub.status.idle": "2020-12-18T19:36:51.237346Z",
     "shell.execute_reply": "2020-12-18T19:36:51.237828Z"
    },
    "id": "wj0bXrX7IUkm",
    "outputId": "c628d30c-fa5b-474d-ab22-c43716b99d52",
    "papermill": {
     "duration": 0.227182,
     "end_time": "2020-12-18T19:36:51.237994",
     "exception": false,
     "start_time": "2020-12-18T19:36:51.010812",
     "status": "completed"
    },
    "tags": []
   },
   "outputs": [
    {
     "name": "stderr",
     "output_type": "stream",
     "text": [
      "C:\\Users\\hp\\anaconda3\\lib\\site-packages\\seaborn\\distributions.py:2619: FutureWarning: `distplot` is a deprecated function and will be removed in a future version. Please adapt your code to use either `displot` (a figure-level function with similar flexibility) or `histplot` (an axes-level function for histograms).\n",
      "  warnings.warn(msg, FutureWarning)\n"
     ]
    },
    {
     "data": {
      "text/plain": [
       "([<matplotlib.axis.XTick at 0x18b9e9d7ac0>,\n",
       "  <matplotlib.axis.XTick at 0x18b9e9d7a90>,\n",
       "  <matplotlib.axis.XTick at 0x18b9e9fde50>,\n",
       "  <matplotlib.axis.XTick at 0x18b9fa67670>,\n",
       "  <matplotlib.axis.XTick at 0x18b9fa67dc0>,\n",
       "  <matplotlib.axis.XTick at 0x18b9fa6e160>,\n",
       "  <matplotlib.axis.XTick at 0x18b9fa6e8b0>,\n",
       "  <matplotlib.axis.XTick at 0x18b9fa73100>,\n",
       "  <matplotlib.axis.XTick at 0x18b9fa73790>,\n",
       "  <matplotlib.axis.XTick at 0x18b9e9d7160>],\n",
       " [Text(0, 0, ''),\n",
       "  Text(0, 0, ''),\n",
       "  Text(0, 0, ''),\n",
       "  Text(0, 0, ''),\n",
       "  Text(0, 0, ''),\n",
       "  Text(0, 0, ''),\n",
       "  Text(0, 0, ''),\n",
       "  Text(0, 0, ''),\n",
       "  Text(0, 0, ''),\n",
       "  Text(0, 0, '')])"
      ]
     },
     "execution_count": 62,
     "metadata": {},
     "output_type": "execute_result"
    },
    {
     "data": {
      "image/png": "[encoded data removed]",
      "text/plain": [
       "<Figure size 864x432 with 1 Axes>"
      ]
     },
     "metadata": {
      "needs_background": "light"
     },
     "output_type": "display_data"
    }
   ],
   "source": [
    "xdata = [1,2,3,4,5,6,7,8,9,10]\n",
    "plt.figure(figsize = (12,6))\n",
    "sns.distplot(df['Quantity'])\n",
    "plt.xticks(xdata)"
   ]
  },
  {
   "cell_type": "code",
   "execution_count": 63,
   "metadata": {
    "execution": {
     "iopub.execute_input": "2020-12-18T19:36:51.335400Z",
     "iopub.status.busy": "2020-12-18T19:36:51.334345Z",
     "iopub.status.idle": "2020-12-18T19:36:51.339214Z",
     "shell.execute_reply": "2020-12-18T19:36:51.338657Z"
    },
    "id": "RTbBFcw4KC3k",
    "outputId": "2ab5e8b3-2d67-4605-fe7d-9a9a5af9c751",
    "papermill": {
     "duration": 0.058372,
     "end_time": "2020-12-18T19:36:51.339341",
     "exception": false,
     "start_time": "2020-12-18T19:36:51.280969",
     "status": "completed"
    },
    "tags": []
   },
   "outputs": [
    {
     "data": {
      "text/html": [
       "<div>\n",
       "<style scoped>\n",
       "    .dataframe tbody tr th:only-of-type {\n",
       "        vertical-align: middle;\n",
       "    }\n",
       "\n",
       "    .dataframe tbody tr th {\n",
       "        vertical-align: top;\n",
       "    }\n",
       "\n",
       "    .dataframe thead th {\n",
       "        text-align: right;\n",
       "    }\n",
       "</style>\n",
       "<table border=\"1\" class=\"dataframe\">\n",
       "  <thead>\n",
       "    <tr style=\"text-align: right;\">\n",
       "      <th></th>\n",
       "      <th>Quantity</th>\n",
       "    </tr>\n",
       "  </thead>\n",
       "  <tbody>\n",
       "    <tr>\n",
       "      <th>10</th>\n",
       "      <td>119</td>\n",
       "    </tr>\n",
       "    <tr>\n",
       "      <th>1</th>\n",
       "      <td>112</td>\n",
       "    </tr>\n",
       "    <tr>\n",
       "      <th>4</th>\n",
       "      <td>109</td>\n",
       "    </tr>\n",
       "    <tr>\n",
       "      <th>7</th>\n",
       "      <td>102</td>\n",
       "    </tr>\n",
       "    <tr>\n",
       "      <th>5</th>\n",
       "      <td>102</td>\n",
       "    </tr>\n",
       "    <tr>\n",
       "      <th>6</th>\n",
       "      <td>98</td>\n",
       "    </tr>\n",
       "    <tr>\n",
       "      <th>9</th>\n",
       "      <td>92</td>\n",
       "    </tr>\n",
       "    <tr>\n",
       "      <th>2</th>\n",
       "      <td>91</td>\n",
       "    </tr>\n",
       "    <tr>\n",
       "      <th>3</th>\n",
       "      <td>90</td>\n",
       "    </tr>\n",
       "    <tr>\n",
       "      <th>8</th>\n",
       "      <td>85</td>\n",
       "    </tr>\n",
       "  </tbody>\n",
       "</table>\n",
       "</div>"
      ],
      "text/plain": [
       "    Quantity\n",
       "10       119\n",
       "1        112\n",
       "4        109\n",
       "7        102\n",
       "5        102\n",
       "6         98\n",
       "9         92\n",
       "2         91\n",
       "3         90\n",
       "8         85"
      ]
     },
     "execution_count": 63,
     "metadata": {},
     "output_type": "execute_result"
    }
   ],
   "source": [
    "quantity_df = pd.DataFrame(df['Quantity'].value_counts())\n",
    "quantity_df"
   ]
  },
  {
   "cell_type": "code",
   "execution_count": 64,
   "metadata": {
    "execution": {
     "iopub.execute_input": "2020-12-18T19:36:51.457771Z",
     "iopub.status.busy": "2020-12-18T19:36:51.453659Z",
     "iopub.status.idle": "2020-12-18T19:36:51.633706Z",
     "shell.execute_reply": "2020-12-18T19:36:51.632976Z"
    },
    "id": "xvNU7-vdQq8f",
    "outputId": "3b9a0c81-b72b-4b62-fb07-0a19dabf1f77",
    "papermill": {
     "duration": 0.252118,
     "end_time": "2020-12-18T19:36:51.633831",
     "exception": false,
     "start_time": "2020-12-18T19:36:51.381713",
     "status": "completed"
    },
    "tags": []
   },
   "outputs": [
    {
     "data": {
      "text/plain": [
       "<AxesSubplot:ylabel='Quantity'>"
      ]
     },
     "execution_count": 64,
     "metadata": {},
     "output_type": "execute_result"
    },
    {
     "data": {
      "image/png": "[encoded data removed]",
      "text/plain": [
       "<Figure size 864x432 with 1 Axes>"
      ]
     },
     "metadata": {
      "needs_background": "light"
     },
     "output_type": "display_data"
    }
   ],
   "source": [
    "plt.figure(figsize=(12,6))\n",
    "sns.barplot(x = quantity_df.index , y = quantity_df['Quantity'] , palette = 'inferno')"
   ]
  },
  {
   "cell_type": "markdown",
   "metadata": {
    "papermill": {
     "duration": 0.04447,
     "end_time": "2020-12-18T19:36:51.721752",
     "exception": false,
     "start_time": "2020-12-18T19:36:51.677282",
     "status": "completed"
    },
    "tags": []
   },
   "source": [
    "**Plotting heatmap to check if any correlation between columns**"
   ]
  },
  {
   "cell_type": "code",
   "execution_count": 65,
   "metadata": {
    "execution": {
     "iopub.execute_input": "2020-12-18T19:36:51.820557Z",
     "iopub.status.busy": "2020-12-18T19:36:51.814372Z",
     "iopub.status.idle": "2020-12-18T19:36:52.104178Z",
     "shell.execute_reply": "2020-12-18T19:36:52.104701Z"
    },
    "papermill": {
     "duration": 0.339515,
     "end_time": "2020-12-18T19:36:52.104839",
     "exception": false,
     "start_time": "2020-12-18T19:36:51.765324",
     "status": "completed"
    },
    "tags": []
   },
   "outputs": [
    {
     "data": {
      "text/plain": [
       "<AxesSubplot:>"
      ]
     },
     "execution_count": 65,
     "metadata": {},
     "output_type": "execute_result"
    },
    {
     "data": {
      "image/png": "[encoded data removed]",
      "text/plain": [
       "<Figure size 432x288 with 2 Axes>"
      ]
     },
     "metadata": {
      "needs_background": "light"
     },
     "output_type": "display_data"
    }
   ],
   "source": [
    "sns.heatmap(df.corr())"
   ]
  },
  {
   "cell_type": "markdown",
   "metadata": {
    "id": "eq2wYXgLRiAQ",
    "papermill": {
     "duration": 0.045234,
     "end_time": "2020-12-18T19:36:52.195183",
     "exception": false,
     "start_time": "2020-12-18T19:36:52.149949",
     "status": "completed"
    },
    "tags": []
   },
   "source": [
    "## **Inference from the Analysis**\n",
    "\n",
    "1.  Total Customers = 1000\n",
    "2.  Total Females = 501\n",
    "3.  Total Males = 499\n",
    "4.  Min Rating = 4\n",
    "5.  Max Rating = 10\n",
    "6.  Average Rating = 6.97\n",
    "7.  Best Average Rating in Food & Beverages\n",
    "8.  Max Average Gross Income in Home & Lifestyle\n",
    "9.  Min Average Gross Income in Fashion Accessories\n",
    "10. Maximum customers buys 10 quantities\n",
    "11. Max Average total bill in Home and lifestyle\n",
    "12. Min Average total bill in Fashion Accessories\n",
    "13. Maximum People pays through e-wallet\n",
    "14. Maximum people comes from Yangon City\n",
    "15. Max Average Sales of Fashion Accessories is from Females\n",
    "16. Max Average Sales of Health & Beauty is from Males \n"
   ]
  },
  {
   "cell_type": "code",
   "execution_count": null,
   "metadata": {},
   "outputs": [],
   "source": []
  }
 ],
 "metadata": {
  "kernelspec": {
   "display_name": "Python 3 (ipykernel)",
   "language": "python",
   "name": "python3"
  },
  "language_info": {
   "codemirror_mode": {
    "name": "ipython",
    "version": 3
   },
   "file_extension": ".py",
   "mimetype": "text/x-python",
   "name": "python",
   "nbconvert_exporter": "python",
   "pygments_lexer": "ipython3",
   "version": "3.9.7"
  },
  "papermill": {
   "duration": 12.850916,
   "end_time": "2020-12-18T19:36:52.348557",
   "environment_variables": {},
   "exception": null,
   "input_path": "__notebook__.ipynb",
   "output_path": "__notebook__.ipynb",
   "parameters": {},
   "start_time": "2020-12-18T19:36:39.497641",
   "version": "2.1.0"
  }
 },
 "nbformat": 4,
 "nbformat_minor": 4
}
